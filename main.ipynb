{
 "cells": [
  {
   "cell_type": "code",
   "execution_count": 1,
   "metadata": {},
   "outputs": [
    {
     "name": "stderr",
     "output_type": "stream",
     "text": [
      "/Users/kaushalpatil/Development/SIH Research Paper/SIH/lib/python3.10/site-packages/tqdm/auto.py:21: TqdmWarning: IProgress not found. Please update jupyter and ipywidgets. See https://ipywidgets.readthedocs.io/en/stable/user_install.html\n",
      "  from .autonotebook import tqdm as notebook_tqdm\n",
      "[nltk_data] Downloading package punkt to\n",
      "[nltk_data]     /Users/kaushalpatil/nltk_data...\n",
      "[nltk_data]   Package punkt is already up-to-date!\n",
      "[nltk_data] Downloading package brown to\n",
      "[nltk_data]     /Users/kaushalpatil/nltk_data...\n",
      "[nltk_data]   Package brown is already up-to-date!\n",
      "[nltk_data] Downloading package wordnet to\n",
      "[nltk_data]     /Users/kaushalpatil/nltk_data...\n",
      "[nltk_data]   Package wordnet is already up-to-date!\n",
      "[nltk_data] Downloading package stopwords to\n",
      "[nltk_data]     /Users/kaushalpatil/nltk_data...\n",
      "[nltk_data]   Package stopwords is already up-to-date!\n"
     ]
    }
   ],
   "source": [
    "# !pip install --quiet transformers==4.8.1 sentencepiece==0.1.95 flashtext==2.7 sentence-transformers==2.2.2 sense2vec==2.0.0 textwrap3==0.9.2 \n",
    "# !pip install git+https://github.com/boudinfl/pke.git\n",
    "\n",
    "from flashtext import KeywordProcessor\n",
    "import torch\n",
    "from transformers import T5ForConditionalGeneration, T5Tokenizer, pipeline, BartTokenizer, BartForConditionalGeneration\n",
    "import nltk\n",
    "from nltk.corpus import wordnet as wn\n",
    "from nltk.tokenize import sent_tokenize\n",
    "from nltk.corpus import stopwords\n",
    "import string\n",
    "import pke\n",
    "import traceback\n",
    "import sense2vec\n",
    "import spacy\n",
    "from sense2vec import Sense2Vec\n",
    "import numpy as np\n",
    "\n",
    "spacy_model = spacy.load('en_core_web_sm')\n",
    "\n",
    "nltk.download('punkt')\n",
    "nltk.download('brown')\n",
    "nltk.download('wordnet')\n",
    "nltk.download('stopwords')\n",
    "\n",
    "s2v = Sense2Vec().from_disk('/Users/kaushalpatil/Development/SIH Research Paper/s2v_old')"
   ]
  },
  {
   "cell_type": "code",
   "execution_count": 2,
   "metadata": {},
   "outputs": [],
   "source": [
    "from similarity.normalized_levenshtein import NormalizedLevenshtein\n",
    "normalized_levenshtein = NormalizedLevenshtein()\n",
    "from sentence_transformers import SentenceTransformer\n",
    "sentence_transformer_model = SentenceTransformer('msmarco-distilbert-base-v3')\n",
    "from collections import OrderedDict\n",
    "from sklearn.metrics.pairwise import cosine_similarity"
   ]
  },
  {
   "cell_type": "code",
   "execution_count": 3,
   "metadata": {},
   "outputs": [
    {
     "name": "stderr",
     "output_type": "stream",
     "text": [
      "You are using the default legacy behaviour of the <class 'transformers.models.t5.tokenization_t5.T5Tokenizer'>. If you see this, DO NOT PANIC! This is expected, and simply means that the `legacy` (previous) behavior will be used so nothing changes for you. If you want to use the new behaviour, set `legacy=False`. This should only be set if you understand what it means, and thouroughly read the reason why this was added as explained in https://github.com/huggingface/transformers/pull/24565\n"
     ]
    }
   ],
   "source": [
    "device = torch.device(\"cuda\" if torch.cuda.is_available() else \"cpu\")\n",
    "summary_tokenizer = BartTokenizer.from_pretrained('facebook/bart-large-cnn')\n",
    "summary_model = BartForConditionalGeneration.from_pretrained('facebook/bart-large-cnn')\n",
    "\n",
    "question_model = T5ForConditionalGeneration.from_pretrained('ramsrigouthamg/t5_squad_v1')\n",
    "question_tokenizer = T5Tokenizer.from_pretrained('ramsrigouthamg/t5_squad_v1')\n",
    "question_model = question_model.to(device)"
   ]
  },
  {
   "cell_type": "code",
   "execution_count": 4,
   "metadata": {},
   "outputs": [],
   "source": [
    "def summarizer(text, high = 500, low = 250):\n",
    "    text = text.strip().replace(\"\\n\",\" \")\n",
    "    text = \"summarize: \"+text\n",
    "    input_tokens = summary_tokenizer.batch_encode_plus ([text], return_tensors='pt', max_length=1024, truncation=True)['input_ids']\n",
    "    encoded_ids = summary_model.generate (input_tokens, num_beams=4, length_penalty=2.0, max_length=high, min_length=low, no_repeat_ngram_size=3)\n",
    "    summary = summary_tokenizer.decode(encoded_ids. squeeze (), skip_special_tokens=True)\n",
    "    print(summary)\n",
    "    return summary"
   ]
  },
  {
   "cell_type": "code",
   "execution_count": 5,
   "metadata": {},
   "outputs": [],
   "source": [
    "def get_nouns_multipartite(content):\n",
    "    out=[]\n",
    "    try:\n",
    "        extractor = pke.unsupervised.MultipartiteRank()\n",
    "        extractor.load_document(input=content,language='en', spacy_model = spacy_model)\n",
    "        pos = {'PROPN','NOUN'}\n",
    "        stoplist = list(string.punctuation)\n",
    "        stoplist += ['-lrb-', '-rrb-', '-lcb-', '-rcb-', '-lsb-', '-rsb-']\n",
    "        stoplist += stopwords.words('english')\n",
    "        extractor.candidate_selection(pos=pos)\n",
    "        extractor.candidate_weighting(alpha=1.1,threshold=0.75,method='average')\n",
    "        keyphrases = extractor.get_n_best(n=15)\n",
    "        for val in keyphrases:\n",
    "            out.append(val[0])\n",
    "    except:\n",
    "        out = []\n",
    "        traceback.print_exc()\n",
    "    print(out)\n",
    "    return out"
   ]
  },
  {
   "cell_type": "code",
   "execution_count": 6,
   "metadata": {},
   "outputs": [],
   "source": [
    "def get_keywords(originaltext, summarytext):\n",
    "    keywords = get_nouns_multipartite(originaltext)\n",
    "    print (\"keywords unsummarized: \",keywords)\n",
    "    keyword_processor = KeywordProcessor()\n",
    "    for keyword in keywords:\n",
    "        keyword_processor.add_keyword(keyword)\n",
    "\n",
    "    keywords_found = keyword_processor.extract_keywords(summarytext)\n",
    "    keywords_found = list(set(keywords_found))\n",
    "    print (\"keywords_found in summarized: \",keywords_found)\n",
    "\n",
    "    important_keywords =[]\n",
    "    for keyword in keywords:\n",
    "        if keyword in keywords_found:\n",
    "            important_keywords.append(keyword)\n",
    "    return important_keywords\n",
    "\n",
    "# imp_keywords = get_keywords(text, summarized_text)\n",
    "# print(imp_keywords)"
   ]
  },
  {
   "cell_type": "code",
   "execution_count": 7,
   "metadata": {},
   "outputs": [],
   "source": [
    "def get_question(context, answer, model, tokenizer):\n",
    "    text = \"context: {} answer: {}\".format(context, answer)\n",
    "    encoding = tokenizer.encode_plus(\n",
    "        text, max_length=384, pad_to_max_length=False, truncation=True, return_tensors=\"pt\"\n",
    "    ).to(device)\n",
    "    input_ids, attention_mask = encoding[\"input_ids\"], encoding[\"attention_mask\"]\n",
    "    outs = model.generate(\n",
    "        input_ids=input_ids,\n",
    "        attention_mask=attention_mask,\n",
    "        early_stopping=True,\n",
    "        num_beams=5,\n",
    "        num_return_sequences=1,\n",
    "        no_repeat_ngram_size=2,\n",
    "        max_length=72,\n",
    "    )\n",
    "    dec = [tokenizer.decode(ids, skip_special_tokens=True) for ids in outs]\n",
    "    Question = dec[0].replace(\"question:\", \"\")\n",
    "    Question = Question.strip()\n",
    "    return Question\n",
    "\n",
    "\n",
    "def categorize_question_difficulty(question, answer):\n",
    "    difficulty_score = 0\n",
    "    question_length = len(question.split())\n",
    "    if question_length < 5:\n",
    "        difficulty_score += 1\n",
    "    elif question_length < 10:\n",
    "        difficulty_score += 2\n",
    "    else:\n",
    "        difficulty_score += 3\n",
    "\n",
    "    if answer.lower() in question.lower():\n",
    "        difficulty_score -= 1\n",
    "\n",
    "    if difficulty_score <= 2:\n",
    "        return \"Easy\"\n",
    "    elif difficulty_score <= 4:\n",
    "        return \"Medium\"\n",
    "    else:\n",
    "        return \"Hard\"\n",
    "\n",
    "# for answer in imp_keywords:\n",
    "#     ques = get_question(summarized_text, answer, question_model, question_tokenizer)\n",
    "#     difficulty = categorize_question_difficulty(ques, answer)\n",
    "#     print(f\"Question Difficulty: {difficulty}\")\n",
    "#     print(\"Question:\", ques)\n",
    "#     print(\"Answer:\", answer.capitalize())\n",
    "#     print(\"\\n\")"
   ]
  },
  {
   "cell_type": "code",
   "execution_count": 8,
   "metadata": {},
   "outputs": [],
   "source": [
    "def filter_same_sense_words(original,wordlist):\n",
    "    filtered_words=[]\n",
    "    base_sense =original.split('|')[1]\n",
    "    # print (base_sense)\n",
    "    for eachword in wordlist:\n",
    "        if eachword[0].split('|')[1] == base_sense:\n",
    "            filtered_words.append(eachword[0].split('|')[0].replace(\"_\", \" \").title().strip())\n",
    "    return filtered_words\n",
    "\n",
    "def get_highest_similarity_score(wordlist,wrd):\n",
    "    score=[]\n",
    "    for each in wordlist:\n",
    "        score.append(normalized_levenshtein.similarity(each.lower(),wrd.lower()))\n",
    "    return max(score)\n",
    "\n",
    "def sense2vec_get_words(word,s2v,topn,question):\n",
    "    output = []\n",
    "    # print (\"word \",word)\n",
    "    try:\n",
    "        sense = s2v.get_best_sense(word, senses= [\"NOUN\", \"PERSON\",\"PRODUCT\",\"LOC\",\"ORG\",\"EVENT\",\"NORP\",\"WORK OF ART\",\"FAC\",\"GPE\",\"NUM\",\"FACILITY\"])\n",
    "        most_similar = s2v.most_similar(sense, n=topn)\n",
    "        output = filter_same_sense_words(sense,most_similar)\n",
    "        # print (\"Similar \",output)\n",
    "    except:\n",
    "        output =[]\n",
    "\n",
    "    threshold = 0.6\n",
    "    final=[word]\n",
    "    checklist =question.split()\n",
    "    for x in output:\n",
    "        if get_highest_similarity_score(final,x)<threshold and x not in final and x not in checklist:\n",
    "            final.append(x)\n",
    "\n",
    "    return final[1:]\n",
    "\n",
    "# def mmr(doc_embedding, word_embeddings, words, top_n, lambda_param):\n",
    "#     word_doc_similarity = cosine_similarity(word_embeddings, doc_embedding)\n",
    "#     word_similarity = cosine_similarity(word_embeddings)\n",
    "#     keywords_idx = [np.argmax(word_doc_similarity)]\n",
    "#     candidates_idx = [i for i in range(len(words)) if i != keywords_idx[0]]\n",
    "#     for _ in range(top_n - 1):\n",
    "#         candidate_similarities = word_doc_similarity[candidates_idx, :]\n",
    "#         target_similarities = np.max(word_similarity[candidates_idx][:, keywords_idx], axis=1)\n",
    "#         mmr = (lambda_param) * candidate_similarities - (1-lambda_param) * target_similarities.reshape(-1, 1)\n",
    "#         mmr_idx = candidates_idx[np.argmax(mmr)]\n",
    "#         keywords_idx.append(mmr_idx)\n",
    "#         candidates_idx.remove(mmr_idx)\n",
    "#     return [words[idx] for idx in keywords_idx]"
   ]
  },
  {
   "cell_type": "code",
   "execution_count": 9,
   "metadata": {},
   "outputs": [],
   "source": [
    "def get_distractors(word, origsentence, sense2vecmodel, sentencemodel, top_n, lambdaval):\n",
    "    distractors = sense2vec_get_words(word,sense2vecmodel,top_n,origsentence)\n",
    "    # print (\"distractors \",distractors)\n",
    "    # if len(distractors) ==0:\n",
    "    #     return distractors\n",
    "    # distractors_new = [word.capitalize()]\n",
    "    # distractors_new.extend(distractors)\n",
    "    # embedding_sentence = origsentence+ \" \"+word.capitalize()\n",
    "    # keyword_embedding = sentencemodel.encode([embedding_sentence])\n",
    "    # distractor_embeddings = sentencemodel.encode(distractors_new)\n",
    "    # max_keywords = min(len(distractors_new),5)\n",
    "    # filtered_keywords = mmr(keyword_embedding, distractor_embeddings,distractors_new,max_keywords,lambdaval)\n",
    "    # # filtered_keywords = filtered_keywords[1:]\n",
    "    # final = [word.capitalize()]\n",
    "    # for wrd in filtered_keywords:\n",
    "    #     if wrd.lower() != word.lower():\n",
    "    #         final.append(wrd.capitalize())\n",
    "    # final = final[1:]\n",
    "    # top1, top2, top3 = \"\", \"\", \"\"\n",
    "    # sim1, sim2, sim3 = 0, 0, 0\n",
    "    ans = []\n",
    "    for i in distractors:\n",
    "        ans.append([i, cosine_similarity(sentencemodel.encode([word]), sentencemodel.encode([i]))])\n",
    "    ans.sort(key=lambda x: x[1], reverse=True)\n",
    "    for i in range(len(ans)):\n",
    "        ans[i] = ans[i][0]\n",
    "    return ans[:3]"
   ]
  },
  {
   "cell_type": "code",
   "execution_count": 10,
   "metadata": {},
   "outputs": [],
   "source": [
    "text1 = 'In 1848, Frédéric Sorrieu, a French artist, prepared a series of four prints visualising his dream of a world made up of ‘democratic and social Republics’, as he called them. The first print (Fig. 1) of the series, shows the peoples of Europe and America – men and women of all ages and social classes – marching in a long train, and offering homage to the statue of Liberty as they pass by it. As you would recall, artists of the time of the French Revolution personified Liberty as a female figure – here you can recognise the torch of Enlightenment she bears in one hand and the Charter of the Rights of Man in the other. On the earth in the foreground of the image lie the shattered remains of the symbols of absolutist institutions. In Sorrieu’s utopian vision, the peoples of the world are grouped as distinct nations, identified through their flags and national costume. Leading the procession, way past the statue of Liberty, are the United States and Switzerland, which by this time were already nation-states. France, identifiable by the revolutionary tricolour, has just reached the statue. She is followed by the peoples of Germany, bearing the black, red and gold flag. Interestingly, at the time when Sorrieu created this image, the German peoples did not yet exist as a united nation – the flag they carry is an expression of liberal hopes in 1848 to unify the numerous German-speaking principalities into a nation-state under a democratic constitution. Following the German peoples are the peoples of Austria, the Kingdom of the Two Sicilies, Lombardy, Poland, England, Ireland, Hungary and Russia. From the heavens above, Christ, saints and angels gaze upon the scene. They have been used by the artist to symbolise fraternity among the nations of the world. This chapter will deal with many of the issues visualised by Sorrieu in Fig. 1. During the nineteenth century, nationalism emerged as a force which brought about sweeping changes in the political and mental world of Europe. The end result of these changes was the emergence of the nation- state in place of the multi-national dynastic empires of Europe. The concept and practices of a modern state, in which a centralised power exercised sovereign control over a clearly defined territory, had been developing over a long period of time in Europe. But a nation-state was one in which the majority of its citizens, and not only its rulers, came to develop a sense of common identity and shared history or descent. This commonness did not exist from time immemorial; it was forged through struggles, through the actions of leaders and the common people. This chapter will look at the diverse processes through which nation-states and nationalism came into being in nineteenth-century Europe. The first clear expression of nationalism came with the French Revolution in 1789. France, as you would remember, was a full-fledged territorial state in 1789 under the rule of an absolute monarch. The political and constitutional changes that came in the wake of the French Revolution led to the transfer of sovereignty from the monarchy to a body of French citizens. The revolution proclaimed that it was the people who would henceforth constitute the nation and shape its destiny. From the very beginning, the French revolutionaries introduced various measures and practices that could create a sense of collective identity amongst the French people. The ideas of la patrie (the fatherland) and le citoyen (the citizen) emphasised the notion of a united community enjoying equal rights under a constitution. A new French flag, the tricolour, was chosen to replace the former royal standard. The Estates General was elected by the body of active citizens and renamed the National Assembly. New hymns were composed, oaths taken and martyrs commemorated, all in the name of the nation. A centralised administrative system was put in place and it formulated uniform laws for all citizens within its territory. Internal customs duties and dues were abolished and a uniform system of weights and measures was adopted. Regional dialects were discouraged and French, as it was spoken and written in Paris, became the common language of the nation. The revolutionaries further declared that it was the mission and the destiny of the French nation to liberate the peoples of Europe from despotism, in other words to help other peoples of Europe to become nations. When the news of the events in France reached the different cities of Europe, students and other members of educated middle classes began setting up Jacobin clubs. Their activities and campaigns prepared the way for the French armies which moved into Holland, Belgium, Switzerland and much of Italy in the 1790s. With the outbreak of the revolutionary wars, the French armies began to carry the idea of nationalism abroad. Within the wide swathe of territory that came under his control, Napoleon set about introducing many of the reforms that he had already introduced in France. Through a return to monarchy Napoleon had, no doubt, destroyed democracy in France, but in the administrative field he had incorporated revolutionary principles in order to make the whole system more rational and efficient. The Civil Code of 1804 – usually known as the Napoleonic Code – did away with all privileges based on birth, established equality before the law and secured the right to property. This Code was exported to the regions under French control. In the Dutch Republic, in Switzerland, in Italy and Germany, Napoleon simplified administrative divisions, abolished the feudal system and freed peasants from serfdom and manorial dues. In the towns too, guild restrictions were removed. Transport and communication systems were improved. Peasants, artisans, workers and new businessmen enjoyed a new-found freedom. Businessmen and small-scale producers of goods, in particular, began to realise that uniform laws, standardised weights and measures, and a common national currency would facilitate the movement and exchange of goods and capital from one region to another. However, in the areas conquered, the reactions of the local populations to French rule were mixed. Initially, in many places such as Holland and Switzerland, as well as in certain cities like Brussels, Mainz, Milan and Warsaw, the French armies were welcomed as harbingers of liberty. But the initial enthusiasm soon turned to hostility, as it became clear that the new administrative arrangements did not go hand in hand with political freedom. Increased taxation, censorship, forced conscription into the French armies required to conquer the rest of Europe, all seemed to outweigh the advantages of the administrative changes. If you look at the map of mid-eighteenth-century Europe you will find that there were no ‘nation-states’ as we know them today. What we know today as Germany, Italy and Switzerland were divided into kingdoms, duchies and cantons whose rulers had their autonomous territories. Eastern and Central Europe were under autocratic monarchies within the territories of which lived diverse peoples. They did not see themselves as sharing a collective identity or a common culture. Often, they even spoke different languages and belonged to different ethnic groups. The Habsburg Empire that ruled over Austria-Hungary, for example, was a patchwork of many different regions and peoples. It included the Alpine regions – the Tyrol, Austria and the Sudetenland – as well as Bohemia, where the aristocracy was predominantly German-speaking. It also included the Italian-speaking provinces of Lombardy and Venetia. In Hungary, half of the population spoke Magyar while the other half spoke a variety of dialects. In Galicia, the aristocracy spoke Polish. Besides these three dominant groups, there also lived within the boundaries of the empire, a mass of subject peasant peoples – Bohemians and Slovaks to the north, Slovenes in Carniola, Croats to the south, and Roumans to the east in Transylvania. Such differences did not easily promote a sense of political unity. The only tie binding these diverse groups together was a common allegiance to the emperor.'"
   ]
  },
  {
   "cell_type": "code",
   "execution_count": 10,
   "metadata": {},
   "outputs": [],
   "source": [
    "text = 'Operating System lies in the category of system software. It basically manages all the resources of the computer. An operating system acts as an interface between the software and different parts of the computer or the computer hardware. The operating system is designed in such a way that it can manage the overall resources and operations of the computer. Operating System is a fully integrated set of specialized programs that handle all the operations of the computer. It controls and monitors the execution of all other programs that reside in the computer, which also includes application programs and other system software of the computer. Examples of Operating Systems are Windows, Linux, Mac OS, etc. An Operating System (OS) is a collection of software that manages computer hardware resources and provides common services for computer programs. The operating system is the most important type of system software in a computer system. The operating system helps in improving the computer software as well as hardware. Without OS, it became very difficult for any application to be user-friendly. The Operating System provides a user with an interface that makes any application attractive and user-friendly. The operating System comes with a large number of device drivers that make OS services reachable to the hardware environment. Each and every application present in the system requires the Operating System. The operating system works as a communication channel between system hardware and system software. The operating system helps an application with the hardware part without knowing about the actual hardware configuration. It is one of the most important parts of the system and hence it is present in every device, whether large or small device. Functions of the Operating System: Resource Management: The operating system manages and allocates memory, CPU time, and other hardware resources among the various programs and processes running on the computer. Process Management: The operating system is responsible for starting, stopping, and managing processes and programs. It also controls the scheduling of processes and allocates resources to them. Memory Management: The operating system manages the computer’s primary memory and provides mechanisms for optimizing memory usage. Security: The operating system provides a secure environment for the user, applications, and data by implementing security policies and mechanisms such as access controls and encryption. Job Accounting: It keeps track of time and resources used by various jobs or users. File Management: The operating system is responsible for organizing and managing the file system, including the creation, deletion, and manipulation of files and directories. Device Management: The operating system manages input/output devices such as printers, keyboards, mice, and displays. It provides the necessary drivers and interfaces to enable communication between the devices and the computer. Networking: The operating system provides networking capabilities such as establishing and managing network connections, handling network protocols, and sharing resources such as printers and files over a network. User Interface: The operating system provides a user interface that enables users to interact with the computer system. This can be a Graphical User Interface (GUI), a Command-Line Interface (CLI), or a combination of both. Backup and Recovery: The operating system provides mechanisms for backing up data and recovering it in case of system failures, errors, or disasters. Virtualization: The operating system provides virtualization capabilities that allow multiple operating systems or applications to run on a single physical machine. This can enable efficient use of resources and flexibility in managing workloads. Performance Monitoring: The operating system provides tools for monitoring and optimizing system performance, including identifying bottlenecks, optimizing resource usage, and analyzing system logs and metrics. Time-Sharing: The operating system enables multiple users to share a computer system and its resources simultaneously by providing time-sharing mechanisms that allocate resources fairly and efficiently. System Calls: The operating system provides a set of system calls that enable applications to interact with the operating system and access its resources. System calls provide a standardized interface between applications and the operating system, enabling portability and compatibility across different hardware and software platforms. Error-detecting Aids: These contain methods that include the production of dumps, traces, error messages, and other debugging and error-detecting methods.'"
   ]
  },
  {
   "cell_type": "code",
   "execution_count": 11,
   "metadata": {},
   "outputs": [
    {
     "name": "stdout",
     "output_type": "stream",
     "text": [
      "An operating system acts as an interface between the software and different parts of the computer or the computer hardware. The operating system is responsible for starting, stopping, and managing processes and programs. It also controls the scheduling of processes and allocates resources to them. An operating system provides a secure environment for the user, applications, and data by implementing security policies and mechanisms such as access controls and encryption. It provides mechanisms for backing up data and recovering it in case of system failures, errors, or disasters. It can also enable virtualization capabilities that allow multiple operating systems or applications to run on a single physical machine. This can enable efficient use of resources and flexibility in managing workloads. The Operating System provides a user interface that enables users to interact with the computer system. This could be a Graphical User Interface (GUI), a Command-Line Interface (CLI), or a combination of both. It is one of the most important parts of. the system and hence it is present in every device, whether large or small device. It allows multiple users to share a computer system and its resources simultaneously by providing time-sharing mechanisms that allocate resources fairly and efficiently. System calls provide a standardized interface between applications and the operating system, enabling portability and compatibility across different hardware and software platforms.\n",
      "['operating system', 'system', 'computer', 'resources', 'application programs', 'system software', 'computer hardware', 'user', 'application', 'device drivers', 'programs', 'interface', 'allocates memory', 'file management', 'networking']\n",
      "keywords unsummarized:  ['operating system', 'system', 'computer', 'resources', 'application programs', 'system software', 'computer hardware', 'user', 'application', 'device drivers', 'programs', 'interface', 'allocates memory', 'file management', 'networking']\n",
      "keywords_found in summarized:  ['computer', 'operating system', 'resources', 'interface', 'computer hardware', 'user', 'programs', 'system']\n"
     ]
    }
   ],
   "source": [
    "def generate_mcqs(text):\n",
    "    summarized_text = summarizer(text)\n",
    "    imp_keywords = get_keywords(text, summarized_text)\n",
    "    id = 0\n",
    "    questions = []\n",
    "    for answer in imp_keywords:\n",
    "        ques = get_question(summarized_text, answer, question_model, question_tokenizer)\n",
    "        difficulty = categorize_question_difficulty(ques, answer)\n",
    "        choices = get_distractors(answer,ques,s2v,sentence_transformer_model, 40, 0.2)\n",
    "        id = len(questions) + 1\n",
    "        choices.insert(id % 4, answer.capitalize())\n",
    "        question_data = {\n",
    "            \"ID\": id,  # Generate a unique ID\n",
    "            \"Question\": ques,\n",
    "            \"difficulty\": difficulty,\n",
    "            \"answer\": answer.capitalize(),\n",
    "            \"options\": choices  # You can populate this with choices if needed\n",
    "        }\n",
    "        # Append the question data to the list of questions\n",
    "        questions.append(question_data)\n",
    "    return questions\n",
    "\n",
    "ans = generate_mcqs(text)"
   ]
  },
  {
   "cell_type": "code",
   "execution_count": 13,
   "metadata": {},
   "outputs": [],
   "source": [
    "import json\n",
    "with open('result.json', 'w') as fp:\n",
    "    json.dump(ans, fp)"
   ]
  },
  {
   "cell_type": "code",
   "execution_count": null,
   "metadata": {},
   "outputs": [],
   "source": []
  }
 ],
 "metadata": {
  "kernelspec": {
   "display_name": "pandas",
   "language": "python",
   "name": "python3"
  },
  "language_info": {
   "codemirror_mode": {
    "name": "ipython",
    "version": 3
   },
   "file_extension": ".py",
   "mimetype": "text/x-python",
   "name": "python",
   "nbconvert_exporter": "python",
   "pygments_lexer": "ipython3",
   "version": "3.10.9"
  },
  "orig_nbformat": 4
 },
 "nbformat": 4,
 "nbformat_minor": 2
}
